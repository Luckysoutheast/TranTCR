{
 "cells": [
  {
   "cell_type": "code",
   "execution_count": 1,
   "id": "2a7d16ed",
   "metadata": {},
   "outputs": [
    {
     "name": "stderr",
     "output_type": "stream",
     "text": [
      "/home/happy/anaconda3/envs/deeplearning/lib/python3.7/site-packages/tqdm/auto.py:21: TqdmWarning: IProgress not found. Please update jupyter and ipywidgets. See https://ipywidgets.readthedocs.io/en/stable/user_install.html\n",
      "  from .autonotebook import tqdm as notebook_tqdm\n"
     ]
    }
   ],
   "source": [
    "import pandas as pd\n",
    "from sklearn import metrics\n",
    "from sklearn.metrics import confusion_matrix\n",
    "from sklearn.metrics import plot_roc_curve\n",
    "import torch.nn.functional as F\n",
    "import torch\n",
    "from sklearn.metrics import precision_recall_curve,average_precision_score\n",
    "import matplotlib.pyplot as plt\n",
    "from sklearn.metrics import accuracy_score,classification_report,f1_score, precision_score, recall_score, roc_auc_score"
   ]
  },
  {
   "cell_type": "code",
   "execution_count": 17,
   "id": "3e423d22",
   "metadata": {},
   "outputs": [],
   "source": [
    "data_IEDBA = pd.read_csv('./mira_teim_ourposteimneg.csv')\n",
    "data_IEDBA\n",
    "Y_pre = 1-data_IEDBA['binding'].values\n",
    "Y_true = data_IEDBA['label'].values\n",
    "Y_pre_index=Y_pre.round(0)"
   ]
  },
  {
   "cell_type": "code",
   "execution_count": 18,
   "id": "13fb3a96",
   "metadata": {},
   "outputs": [
    {
     "data": {
      "text/plain": [
       "0.21771375868055554"
      ]
     },
     "execution_count": 18,
     "metadata": {},
     "output_type": "execute_result"
    }
   ],
   "source": [
    "auc =  metrics.roc_auc_score(Y_true, Y_pre)\n",
    "auc"
   ]
  },
  {
   "cell_type": "code",
   "execution_count": 19,
   "id": "1d526593",
   "metadata": {},
   "outputs": [
    {
     "data": {
      "text/plain": [
       "0.11631944444444445"
      ]
     },
     "execution_count": 19,
     "metadata": {},
     "output_type": "execute_result"
    }
   ],
   "source": [
    "acc = metrics.accuracy_score(Y_true, Y_pre_index)\n",
    "acc"
   ]
  },
  {
   "cell_type": "code",
   "execution_count": 20,
   "id": "a8378a72",
   "metadata": {},
   "outputs": [
    {
     "data": {
      "text/plain": [
       "0.10288913409820963"
      ]
     },
     "execution_count": 20,
     "metadata": {},
     "output_type": "execute_result"
    }
   ],
   "source": [
    "ap = metrics.average_precision_score(Y_true, Y_pre)\n",
    "ap"
   ]
  },
  {
   "cell_type": "code",
   "execution_count": 23,
   "id": "e8237421",
   "metadata": {},
   "outputs": [
    {
     "data": {
      "text/plain": [
       "0.20219435736677116"
      ]
     },
     "execution_count": 23,
     "metadata": {},
     "output_type": "execute_result"
    }
   ],
   "source": [
    "f1 = metrics.f1_score(Y_true, Y_pre_index)\n",
    "f1"
   ]
  }
 ],
 "metadata": {
  "kernelspec": {
   "display_name": "mx",
   "language": "python",
   "name": "mx"
  },
  "language_info": {
   "codemirror_mode": {
    "name": "ipython",
    "version": 3
   },
   "file_extension": ".py",
   "mimetype": "text/x-python",
   "name": "python",
   "nbconvert_exporter": "python",
   "pygments_lexer": "ipython3",
   "version": "3.7.13"
  }
 },
 "nbformat": 4,
 "nbformat_minor": 5
}
